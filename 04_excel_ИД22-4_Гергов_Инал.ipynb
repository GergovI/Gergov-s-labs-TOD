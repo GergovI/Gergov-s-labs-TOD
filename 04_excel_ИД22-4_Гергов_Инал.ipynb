{
 "cells": [
  {
   "cell_type": "markdown",
   "metadata": {},
   "source": [
    "# Работа с Excel"
   ]
  },
  {
   "cell_type": "markdown",
   "metadata": {},
   "source": [
    "Материалы:\n",
    "* Макрушин С.В. Лекция 7: Работа с Excel\n",
    "* https://docs.xlwings.org/en/stable/quickstart.html\n",
    "* https://nbviewer.jupyter.org/github/pybokeh/jupyter_notebooks/blob/master/xlwings/Excel_Formatting.ipynb#search_text\n"
   ]
  },
  {
   "cell_type": "code",
   "execution_count": 3,
   "metadata": {},
   "outputs": [],
   "source": [
    "import pandas as pd\n",
    "import xlwings as xw\n",
    "import csv\n",
    "import numpy as np\n",
    "import openpyxl.styles"
   ]
  },
  {
   "cell_type": "markdown",
   "metadata": {},
   "source": [
    "## Задачи для совместного разбора"
   ]
  },
  {
   "cell_type": "markdown",
   "metadata": {},
   "source": [
    "1. На листе \"Рецептура\" файла `себестоимостьА_в1.xlsx` для области \"Пшеничный хлеб\" рассчитать себестоимость всех видов продукции."
   ]
  },
  {
   "cell_type": "code",
   "execution_count": 4,
   "metadata": {},
   "outputs": [
    {
     "name": "stdout",
     "output_type": "stream",
     "text": [
      "Себестоимость Хлеб Венгерский - 21.48\n",
      "Себестоимость Хлеб \"Барбари\" - 16.52\n",
      "Себестоимость Багет парижский - 17.42\n",
      "Себестоимость Чиабатта - 18.09\n"
     ]
    }
   ],
   "source": [
    "wb=xw.Book('себестоимостьА_в1.xlsx')\n",
    "sht=wb.sheets['Рецептура']\n",
    "t1=sht.range('рцп_пшеничный_хлеб').value\n",
    "res=[]\n",
    "n=0\n",
    "for i in range(3, 7): \n",
    "    for j in range(5, 14):\n",
    "        if t1[i][j] is not None:\n",
    "            n+=float(t1[i][j])*float(t1[10][j])\n",
    "    res.append(n)\n",
    "    n=0\n",
    "    print(f'Себестоимость {t1[i][1]} - {res[i-3]:0.2f}') "
   ]
  },
  {
   "cell_type": "markdown",
   "metadata": {},
   "source": [
    "2. Результаты расчетов 1.1 сохранить в отдельном столбце области \"Пшеничный хлеб\""
   ]
  },
  {
   "cell_type": "code",
   "execution_count": 5,
   "metadata": {},
   "outputs": [],
   "source": [
    "sht.range('P5').value='Cебестоимость'\n",
    "sht.range('P7:P10').options(transpose=True).value=res"
   ]
  },
  {
   "cell_type": "markdown",
   "metadata": {},
   "source": [
    "3. Приблизить форматирование столбца, добавленного в задаче 2 к оформлению всей области."
   ]
  },
  {
   "cell_type": "code",
   "execution_count": 6,
   "metadata": {},
   "outputs": [],
   "source": [
    "for i in wb.sheets:\n",
    "    i.autofit(axis='columns')\n",
    "sht.range('P5').font.bold = True"
   ]
  },
  {
   "cell_type": "markdown",
   "metadata": {},
   "source": [
    "## Лабораторная работа 7.1"
   ]
  },
  {
   "cell_type": "markdown",
   "metadata": {},
   "source": [
    "1. Загрузите данные из файлов `reviews_sample.csv` (__ЛР2__) и `recipes_sample.csv` (__ЛР5__) в виде `pd.DataFrame`. Обратите внимание на корректное считывание столбца(ов) с индексами. Оставьте в таблице с рецептами следующие столбцы: `id`, `name`, `minutes`, `submitted`, `description`, `n_ingredients`"
   ]
  },
  {
   "cell_type": "code",
   "execution_count": 7,
   "metadata": {},
   "outputs": [
    {
     "data": {
      "text/html": [
       "<div>\n",
       "<style scoped>\n",
       "    .dataframe tbody tr th:only-of-type {\n",
       "        vertical-align: middle;\n",
       "    }\n",
       "\n",
       "    .dataframe tbody tr th {\n",
       "        vertical-align: top;\n",
       "    }\n",
       "\n",
       "    .dataframe thead th {\n",
       "        text-align: right;\n",
       "    }\n",
       "</style>\n",
       "<table border=\"1\" class=\"dataframe\">\n",
       "  <thead>\n",
       "    <tr style=\"text-align: right;\">\n",
       "      <th></th>\n",
       "      <th>Unnamed: 0</th>\n",
       "      <th>user_id</th>\n",
       "      <th>recipe_id</th>\n",
       "      <th>date</th>\n",
       "      <th>rating</th>\n",
       "      <th>review</th>\n",
       "    </tr>\n",
       "  </thead>\n",
       "  <tbody>\n",
       "    <tr>\n",
       "      <th>0</th>\n",
       "      <td>370476</td>\n",
       "      <td>21752</td>\n",
       "      <td>57993</td>\n",
       "      <td>2003-05-01</td>\n",
       "      <td>5</td>\n",
       "      <td>Last week whole sides of frozen salmon fillet ...</td>\n",
       "    </tr>\n",
       "    <tr>\n",
       "      <th>1</th>\n",
       "      <td>624300</td>\n",
       "      <td>431813</td>\n",
       "      <td>142201</td>\n",
       "      <td>2007-09-16</td>\n",
       "      <td>5</td>\n",
       "      <td>So simple and so tasty!  I used a yellow capsi...</td>\n",
       "    </tr>\n",
       "    <tr>\n",
       "      <th>2</th>\n",
       "      <td>187037</td>\n",
       "      <td>400708</td>\n",
       "      <td>252013</td>\n",
       "      <td>2008-01-10</td>\n",
       "      <td>4</td>\n",
       "      <td>Very nice breakfast HH, easy to make and yummy...</td>\n",
       "    </tr>\n",
       "    <tr>\n",
       "      <th>3</th>\n",
       "      <td>706134</td>\n",
       "      <td>2001852463</td>\n",
       "      <td>404716</td>\n",
       "      <td>2017-12-11</td>\n",
       "      <td>5</td>\n",
       "      <td>These are a favorite for the holidays and so e...</td>\n",
       "    </tr>\n",
       "    <tr>\n",
       "      <th>4</th>\n",
       "      <td>312179</td>\n",
       "      <td>95810</td>\n",
       "      <td>129396</td>\n",
       "      <td>2008-03-14</td>\n",
       "      <td>5</td>\n",
       "      <td>Excellent soup!  The tomato flavor is just gre...</td>\n",
       "    </tr>\n",
       "    <tr>\n",
       "      <th>...</th>\n",
       "      <td>...</td>\n",
       "      <td>...</td>\n",
       "      <td>...</td>\n",
       "      <td>...</td>\n",
       "      <td>...</td>\n",
       "      <td>...</td>\n",
       "    </tr>\n",
       "    <tr>\n",
       "      <th>126691</th>\n",
       "      <td>1013457</td>\n",
       "      <td>1270706</td>\n",
       "      <td>335534</td>\n",
       "      <td>2009-05-17</td>\n",
       "      <td>4</td>\n",
       "      <td>This recipe was great! I made it last night. I...</td>\n",
       "    </tr>\n",
       "    <tr>\n",
       "      <th>126692</th>\n",
       "      <td>158736</td>\n",
       "      <td>2282344</td>\n",
       "      <td>8701</td>\n",
       "      <td>2012-06-03</td>\n",
       "      <td>0</td>\n",
       "      <td>This recipe is outstanding. I followed the rec...</td>\n",
       "    </tr>\n",
       "    <tr>\n",
       "      <th>126693</th>\n",
       "      <td>1059834</td>\n",
       "      <td>689540</td>\n",
       "      <td>222001</td>\n",
       "      <td>2008-04-08</td>\n",
       "      <td>5</td>\n",
       "      <td>Well, we were not a crowd but it was a fabulou...</td>\n",
       "    </tr>\n",
       "    <tr>\n",
       "      <th>126694</th>\n",
       "      <td>453285</td>\n",
       "      <td>2000242659</td>\n",
       "      <td>354979</td>\n",
       "      <td>2015-06-02</td>\n",
       "      <td>5</td>\n",
       "      <td>I have been a steak eater and dedicated BBQ gr...</td>\n",
       "    </tr>\n",
       "    <tr>\n",
       "      <th>126695</th>\n",
       "      <td>691207</td>\n",
       "      <td>463435</td>\n",
       "      <td>415599</td>\n",
       "      <td>2010-09-30</td>\n",
       "      <td>5</td>\n",
       "      <td>Wonderful and simple to prepare seasoning blen...</td>\n",
       "    </tr>\n",
       "  </tbody>\n",
       "</table>\n",
       "<p>126696 rows × 6 columns</p>\n",
       "</div>"
      ],
      "text/plain": [
       "        Unnamed: 0     user_id  recipe_id        date  rating  \\\n",
       "0           370476       21752      57993  2003-05-01       5   \n",
       "1           624300      431813     142201  2007-09-16       5   \n",
       "2           187037      400708     252013  2008-01-10       4   \n",
       "3           706134  2001852463     404716  2017-12-11       5   \n",
       "4           312179       95810     129396  2008-03-14       5   \n",
       "...            ...         ...        ...         ...     ...   \n",
       "126691     1013457     1270706     335534  2009-05-17       4   \n",
       "126692      158736     2282344       8701  2012-06-03       0   \n",
       "126693     1059834      689540     222001  2008-04-08       5   \n",
       "126694      453285  2000242659     354979  2015-06-02       5   \n",
       "126695      691207      463435     415599  2010-09-30       5   \n",
       "\n",
       "                                                   review  \n",
       "0       Last week whole sides of frozen salmon fillet ...  \n",
       "1       So simple and so tasty!  I used a yellow capsi...  \n",
       "2       Very nice breakfast HH, easy to make and yummy...  \n",
       "3       These are a favorite for the holidays and so e...  \n",
       "4       Excellent soup!  The tomato flavor is just gre...  \n",
       "...                                                   ...  \n",
       "126691  This recipe was great! I made it last night. I...  \n",
       "126692  This recipe is outstanding. I followed the rec...  \n",
       "126693  Well, we were not a crowd but it was a fabulou...  \n",
       "126694  I have been a steak eater and dedicated BBQ gr...  \n",
       "126695  Wonderful and simple to prepare seasoning blen...  \n",
       "\n",
       "[126696 rows x 6 columns]"
      ]
     },
     "execution_count": 7,
     "metadata": {},
     "output_type": "execute_result"
    }
   ],
   "source": [
    "reviews = pd.read_csv('reviews_sample.csv')\n",
    "recipes = pd.read_csv('recipes_sample.csv')[['id', 'name', 'minutes', 'submitted', 'description', 'n_ingredients']]\n",
    "\n",
    "reviews"
   ]
  },
  {
   "cell_type": "markdown",
   "metadata": {},
   "source": [
    "2. Случайным образом выберите 5% строк из каждой таблицы и сохраните две таблицы на разные листы в один файл `recipes.xlsx`. Дайте листам названия \"Рецепты\" и \"Отзывы\", соответствующие содержанию таблиц. "
   ]
  },
  {
   "cell_type": "code",
   "execution_count": 8,
   "metadata": {},
   "outputs": [
    {
     "data": {
      "text/html": [
       "<div>\n",
       "<style scoped>\n",
       "    .dataframe tbody tr th:only-of-type {\n",
       "        vertical-align: middle;\n",
       "    }\n",
       "\n",
       "    .dataframe tbody tr th {\n",
       "        vertical-align: top;\n",
       "    }\n",
       "\n",
       "    .dataframe thead th {\n",
       "        text-align: right;\n",
       "    }\n",
       "</style>\n",
       "<table border=\"1\" class=\"dataframe\">\n",
       "  <thead>\n",
       "    <tr style=\"text-align: right;\">\n",
       "      <th></th>\n",
       "      <th>Unnamed: 0</th>\n",
       "      <th>user_id</th>\n",
       "      <th>recipe_id</th>\n",
       "      <th>date</th>\n",
       "      <th>rating</th>\n",
       "      <th>review</th>\n",
       "    </tr>\n",
       "  </thead>\n",
       "  <tbody>\n",
       "    <tr>\n",
       "      <th>2906</th>\n",
       "      <td>433023</td>\n",
       "      <td>222564</td>\n",
       "      <td>495275</td>\n",
       "      <td>2014-12-03</td>\n",
       "      <td>5</td>\n",
       "      <td>Super yummy! There&amp;#039;s a lot going on in th...</td>\n",
       "    </tr>\n",
       "    <tr>\n",
       "      <th>43415</th>\n",
       "      <td>180324</td>\n",
       "      <td>424680</td>\n",
       "      <td>256675</td>\n",
       "      <td>2008-09-17</td>\n",
       "      <td>5</td>\n",
       "      <td>Instead of the ice &amp; sliced pineapple I used f...</td>\n",
       "    </tr>\n",
       "    <tr>\n",
       "      <th>60818</th>\n",
       "      <td>1051143</td>\n",
       "      <td>26234</td>\n",
       "      <td>25094</td>\n",
       "      <td>2002-12-21</td>\n",
       "      <td>5</td>\n",
       "      <td>my son asked for chicken parmigiana for his bi...</td>\n",
       "    </tr>\n",
       "    <tr>\n",
       "      <th>58985</th>\n",
       "      <td>246576</td>\n",
       "      <td>452088</td>\n",
       "      <td>115110</td>\n",
       "      <td>2008-02-01</td>\n",
       "      <td>5</td>\n",
       "      <td>Yum!! this spinach pie is so delicious, even m...</td>\n",
       "    </tr>\n",
       "    <tr>\n",
       "      <th>67294</th>\n",
       "      <td>933197</td>\n",
       "      <td>350404</td>\n",
       "      <td>62814</td>\n",
       "      <td>2006-09-13</td>\n",
       "      <td>4</td>\n",
       "      <td>First time \"chef\"...followed the directions......</td>\n",
       "    </tr>\n",
       "    <tr>\n",
       "      <th>...</th>\n",
       "      <td>...</td>\n",
       "      <td>...</td>\n",
       "      <td>...</td>\n",
       "      <td>...</td>\n",
       "      <td>...</td>\n",
       "      <td>...</td>\n",
       "    </tr>\n",
       "    <tr>\n",
       "      <th>75055</th>\n",
       "      <td>563968</td>\n",
       "      <td>424680</td>\n",
       "      <td>176060</td>\n",
       "      <td>2009-05-14</td>\n",
       "      <td>5</td>\n",
       "      <td>ABSOLUTELY LOVED THIS SHRIMP, &amp; the sauce is g...</td>\n",
       "    </tr>\n",
       "    <tr>\n",
       "      <th>84248</th>\n",
       "      <td>129406</td>\n",
       "      <td>55221</td>\n",
       "      <td>101117</td>\n",
       "      <td>2010-05-25</td>\n",
       "      <td>4</td>\n",
       "      <td>A nice summer cocktail with a good mix of frui...</td>\n",
       "    </tr>\n",
       "    <tr>\n",
       "      <th>81185</th>\n",
       "      <td>11523</td>\n",
       "      <td>62562</td>\n",
       "      <td>301413</td>\n",
       "      <td>2008-06-18</td>\n",
       "      <td>5</td>\n",
       "      <td>Very delicious bread. Nice texture. We really ...</td>\n",
       "    </tr>\n",
       "    <tr>\n",
       "      <th>93284</th>\n",
       "      <td>555703</td>\n",
       "      <td>320625</td>\n",
       "      <td>34398</td>\n",
       "      <td>2009-09-20</td>\n",
       "      <td>4</td>\n",
       "      <td>I found macadamias in my pantry and figured I ...</td>\n",
       "    </tr>\n",
       "    <tr>\n",
       "      <th>101254</th>\n",
       "      <td>282833</td>\n",
       "      <td>202661</td>\n",
       "      <td>332822</td>\n",
       "      <td>2008-12-08</td>\n",
       "      <td>5</td>\n",
       "      <td>Exactly the recipe I wanted. Simple, tradition...</td>\n",
       "    </tr>\n",
       "  </tbody>\n",
       "</table>\n",
       "<p>6334 rows × 6 columns</p>\n",
       "</div>"
      ],
      "text/plain": [
       "        Unnamed: 0  user_id  recipe_id        date  rating  \\\n",
       "2906        433023   222564     495275  2014-12-03       5   \n",
       "43415       180324   424680     256675  2008-09-17       5   \n",
       "60818      1051143    26234      25094  2002-12-21       5   \n",
       "58985       246576   452088     115110  2008-02-01       5   \n",
       "67294       933197   350404      62814  2006-09-13       4   \n",
       "...            ...      ...        ...         ...     ...   \n",
       "75055       563968   424680     176060  2009-05-14       5   \n",
       "84248       129406    55221     101117  2010-05-25       4   \n",
       "81185        11523    62562     301413  2008-06-18       5   \n",
       "93284       555703   320625      34398  2009-09-20       4   \n",
       "101254      282833   202661     332822  2008-12-08       5   \n",
       "\n",
       "                                                   review  \n",
       "2906    Super yummy! There&#039;s a lot going on in th...  \n",
       "43415   Instead of the ice & sliced pineapple I used f...  \n",
       "60818   my son asked for chicken parmigiana for his bi...  \n",
       "58985   Yum!! this spinach pie is so delicious, even m...  \n",
       "67294   First time \"chef\"...followed the directions......  \n",
       "...                                                   ...  \n",
       "75055   ABSOLUTELY LOVED THIS SHRIMP, & the sauce is g...  \n",
       "84248   A nice summer cocktail with a good mix of frui...  \n",
       "81185   Very delicious bread. Nice texture. We really ...  \n",
       "93284   I found macadamias in my pantry and figured I ...  \n",
       "101254  Exactly the recipe I wanted. Simple, tradition...  \n",
       "\n",
       "[6334 rows x 6 columns]"
      ]
     },
     "execution_count": 8,
     "metadata": {},
     "output_type": "execute_result"
    }
   ],
   "source": [
    "s1 = reviews.sample(int(reviews.shape[0] * 0.05))\n",
    "s1"
   ]
  },
  {
   "cell_type": "code",
   "execution_count": 9,
   "metadata": {},
   "outputs": [
    {
     "data": {
      "text/html": [
       "<div>\n",
       "<style scoped>\n",
       "    .dataframe tbody tr th:only-of-type {\n",
       "        vertical-align: middle;\n",
       "    }\n",
       "\n",
       "    .dataframe tbody tr th {\n",
       "        vertical-align: top;\n",
       "    }\n",
       "\n",
       "    .dataframe thead th {\n",
       "        text-align: right;\n",
       "    }\n",
       "</style>\n",
       "<table border=\"1\" class=\"dataframe\">\n",
       "  <thead>\n",
       "    <tr style=\"text-align: right;\">\n",
       "      <th></th>\n",
       "      <th>id</th>\n",
       "      <th>name</th>\n",
       "      <th>minutes</th>\n",
       "      <th>submitted</th>\n",
       "      <th>description</th>\n",
       "      <th>n_ingredients</th>\n",
       "    </tr>\n",
       "  </thead>\n",
       "  <tbody>\n",
       "    <tr>\n",
       "      <th>9572</th>\n",
       "      <td>186947</td>\n",
       "      <td>double chocolate delight muffins</td>\n",
       "      <td>45</td>\n",
       "      <td>2006-09-19</td>\n",
       "      <td>the title says it all. very moist and full of ...</td>\n",
       "      <td>11.0</td>\n",
       "    </tr>\n",
       "    <tr>\n",
       "      <th>5188</th>\n",
       "      <td>95393</td>\n",
       "      <td>cheeseburger noodle casserole</td>\n",
       "      <td>15</td>\n",
       "      <td>2004-07-09</td>\n",
       "      <td>this recipe was an experiment. i didn't have a...</td>\n",
       "      <td>9.0</td>\n",
       "    </tr>\n",
       "    <tr>\n",
       "      <th>1261</th>\n",
       "      <td>471259</td>\n",
       "      <td>asian tuna and cabbage salad</td>\n",
       "      <td>15</td>\n",
       "      <td>2012-01-04</td>\n",
       "      <td>from the complete idiot’s guide to glycemic in...</td>\n",
       "      <td>NaN</td>\n",
       "    </tr>\n",
       "    <tr>\n",
       "      <th>26635</th>\n",
       "      <td>470576</td>\n",
       "      <td>sweet bacon wrapped hot dogs</td>\n",
       "      <td>35</td>\n",
       "      <td>2011-12-26</td>\n",
       "      <td>a coworker makes these for carry ins and they ...</td>\n",
       "      <td>NaN</td>\n",
       "    </tr>\n",
       "    <tr>\n",
       "      <th>4536</th>\n",
       "      <td>43695</td>\n",
       "      <td>candied grapefruit peel</td>\n",
       "      <td>55</td>\n",
       "      <td>2002-10-22</td>\n",
       "      <td>you can subsitute or add orange peel to this r...</td>\n",
       "      <td>NaN</td>\n",
       "    </tr>\n",
       "    <tr>\n",
       "      <th>...</th>\n",
       "      <td>...</td>\n",
       "      <td>...</td>\n",
       "      <td>...</td>\n",
       "      <td>...</td>\n",
       "      <td>...</td>\n",
       "      <td>...</td>\n",
       "    </tr>\n",
       "    <tr>\n",
       "      <th>22717</th>\n",
       "      <td>62908</td>\n",
       "      <td>roasted brined pork tenderloin rolled in toast...</td>\n",
       "      <td>740</td>\n",
       "      <td>2003-05-22</td>\n",
       "      <td>recipe from mark miller</td>\n",
       "      <td>NaN</td>\n",
       "    </tr>\n",
       "    <tr>\n",
       "      <th>22256</th>\n",
       "      <td>364299</td>\n",
       "      <td>raw vegetable dip  bernice s  that darn dip</td>\n",
       "      <td>30</td>\n",
       "      <td>2009-04-03</td>\n",
       "      <td>i got this recipe from a co-worker and good fr...</td>\n",
       "      <td>NaN</td>\n",
       "    </tr>\n",
       "    <tr>\n",
       "      <th>21729</th>\n",
       "      <td>143922</td>\n",
       "      <td>pumpkin pie dessert</td>\n",
       "      <td>190</td>\n",
       "      <td>2005-11-07</td>\n",
       "      <td>another version of pumpkin pie but this one su...</td>\n",
       "      <td>NaN</td>\n",
       "    </tr>\n",
       "    <tr>\n",
       "      <th>7094</th>\n",
       "      <td>327544</td>\n",
       "      <td>cinnamon pumpkin custard</td>\n",
       "      <td>65</td>\n",
       "      <td>2008-09-27</td>\n",
       "      <td>this creamy custard is the ultimate fall desse...</td>\n",
       "      <td>7.0</td>\n",
       "    </tr>\n",
       "    <tr>\n",
       "      <th>13038</th>\n",
       "      <td>374144</td>\n",
       "      <td>grilled sweet potato and russet potato</td>\n",
       "      <td>25</td>\n",
       "      <td>2009-05-25</td>\n",
       "      <td>forget thanksgiving and enjoy these summer gri...</td>\n",
       "      <td>NaN</td>\n",
       "    </tr>\n",
       "  </tbody>\n",
       "</table>\n",
       "<p>1500 rows × 6 columns</p>\n",
       "</div>"
      ],
      "text/plain": [
       "           id                                               name  minutes  \\\n",
       "9572   186947                   double chocolate delight muffins       45   \n",
       "5188    95393                      cheeseburger noodle casserole       15   \n",
       "1261   471259                       asian tuna and cabbage salad       15   \n",
       "26635  470576                       sweet bacon wrapped hot dogs       35   \n",
       "4536    43695                            candied grapefruit peel       55   \n",
       "...       ...                                                ...      ...   \n",
       "22717   62908  roasted brined pork tenderloin rolled in toast...      740   \n",
       "22256  364299        raw vegetable dip  bernice s  that darn dip       30   \n",
       "21729  143922                                pumpkin pie dessert      190   \n",
       "7094   327544                           cinnamon pumpkin custard       65   \n",
       "13038  374144             grilled sweet potato and russet potato       25   \n",
       "\n",
       "        submitted                                        description  \\\n",
       "9572   2006-09-19  the title says it all. very moist and full of ...   \n",
       "5188   2004-07-09  this recipe was an experiment. i didn't have a...   \n",
       "1261   2012-01-04  from the complete idiot’s guide to glycemic in...   \n",
       "26635  2011-12-26  a coworker makes these for carry ins and they ...   \n",
       "4536   2002-10-22  you can subsitute or add orange peel to this r...   \n",
       "...           ...                                                ...   \n",
       "22717  2003-05-22                            recipe from mark miller   \n",
       "22256  2009-04-03  i got this recipe from a co-worker and good fr...   \n",
       "21729  2005-11-07  another version of pumpkin pie but this one su...   \n",
       "7094   2008-09-27  this creamy custard is the ultimate fall desse...   \n",
       "13038  2009-05-25  forget thanksgiving and enjoy these summer gri...   \n",
       "\n",
       "       n_ingredients  \n",
       "9572            11.0  \n",
       "5188             9.0  \n",
       "1261             NaN  \n",
       "26635            NaN  \n",
       "4536             NaN  \n",
       "...              ...  \n",
       "22717            NaN  \n",
       "22256            NaN  \n",
       "21729            NaN  \n",
       "7094             7.0  \n",
       "13038            NaN  \n",
       "\n",
       "[1500 rows x 6 columns]"
      ]
     },
     "execution_count": 9,
     "metadata": {},
     "output_type": "execute_result"
    }
   ],
   "source": [
    "s2 = recipes.sample(int(recipes.shape[0] * 0.05))\n",
    "s2"
   ]
  },
  {
   "cell_type": "code",
   "execution_count": 10,
   "metadata": {},
   "outputs": [],
   "source": [
    "with pd.ExcelWriter('recipes.xlsx') as writer:\n",
    "    s1.to_excel(writer, 'Отзывы')\n",
    "    s2.to_excel(writer, 'Рецепты')"
   ]
  },
  {
   "cell_type": "markdown",
   "metadata": {},
   "source": [
    "3. Используя `xlwings`, добавьте на лист `Рецепты` столбец `seconds_assign`, показывающий время выполнения рецепта в секундах. Выполните задание при помощи присваивания массива значений диапазону ячеек."
   ]
  },
  {
   "cell_type": "code",
   "execution_count": 11,
   "metadata": {},
   "outputs": [],
   "source": [
    "wb = xw.Book('recipes.xlsx')\n",
    "sht = wb.sheets['Рецепты']\n",
    "sht.range('H1').value = 'seconds_assign'\n",
    "sht.range('H2').options(transpose = True).value = [i * 60 for i in s2['minutes']]"
   ]
  },
  {
   "cell_type": "markdown",
   "metadata": {},
   "source": [
    "4. Используя `xlwings`, добавьте на лист `Рецепты` столбец `seconds_formula`, показывающий время выполнения рецепта в секундах. Выполните задание при помощи формул Excel."
   ]
  },
  {
   "cell_type": "code",
   "execution_count": 12,
   "metadata": {},
   "outputs": [],
   "source": [
    "sht.range('I1').value = 'seconds_formula'\n",
    "fml = sht.range('I2').formula = '=D2*60'\n",
    "sht.range('I2:I1501').formula = fml"
   ]
  },
  {
   "cell_type": "markdown",
   "metadata": {},
   "source": [
    "5. Сделайте названия всех добавленных столбцов полужирными и выровняйте по центру ячейки."
   ]
  },
  {
   "cell_type": "code",
   "execution_count": 13,
   "metadata": {},
   "outputs": [],
   "source": [
    "recipes_sh = wb.sheets['Рецепты']\n",
    "recipes_sh.range('H1:I1').api.Font.Bold = True\n",
    "recipes_sh.range('H1:I1').api.HorizontalAlignment = xw.constants.HAlign.xlHAlignCenter"
   ]
  },
  {
   "cell_type": "markdown",
   "metadata": {},
   "source": [
    "6. Раскрасьте ячейки столбца `minutes` в соответствии со следующим правилом: если рецепт выполняется быстрее 5 минут, то цвет - зеленый; от 5 до 10 минут - жёлтый; и больше 10 - красный."
   ]
  },
  {
   "cell_type": "code",
   "execution_count": null,
   "metadata": {},
   "outputs": [],
   "source": [
    "for i in range(2, 1502):\n",
    "    if sht.range(f'D{i}').value < 5:\n",
    "        sht.range(f'D{i}').color = (0, 128, 0)\n",
    "    elif 5 <= sht.range(f'D{i}').value <= 10:\n",
    "        sht.range(f'D{i}').color = (255, 255, 0)\n",
    "    else:\n",
    "        sht.range(f'D{i}').color = (255, 0, 0)"
   ]
  },
  {
   "cell_type": "markdown",
   "metadata": {},
   "source": [
    "7. Добавьте на лист `Рецепты`  столбец `n_reviews`, содержащий кол-во отзывов для этого рецепта. Выполните задание при помощи формул Excel."
   ]
  },
  {
   "cell_type": "code",
   "execution_count": null,
   "metadata": {},
   "outputs": [],
   "source": [
    "sht.range('J1').value = 'n_reviews'\n",
    "fml = sht.range('J2').formula = '=COUNTIF(Отзывы!D1:D6335, B2)'\n",
    "sht.range('J2:J1501').formula = fml"
   ]
  },
  {
   "cell_type": "markdown",
   "metadata": {},
   "source": [
    "## Лабораторная работа 7.2"
   ]
  },
  {
   "cell_type": "markdown",
   "metadata": {},
   "source": [
    "8. Напишите функцию `validate()`, которая проверяет соответствие всех строк из листа `Отзывы` следующим правилам:\n",
    "    * Рейтинг - это число от 0 до 5 включительно\n",
    "    * Соответствующий рецепт имеется на листе `Рецепты`\n",
    "    \n",
    "В случае несоответствия этим правилам, выделите строку красным цветом"
   ]
  },
  {
   "cell_type": "code",
   "execution_count": null,
   "metadata": {},
   "outputs": [],
   "source": [
    "def validate():\n",
    "    wb = xw.Book('recipes.xlsx')\n",
    "    sht = wb.sheets['Отзывы']\n",
    "    for i in range(2, 6336):\n",
    "        if sht.range(f'F{i}').value < 0 or sht.range(f'F{i}').value > 5 or sht.range(f'D{i}').value not in wb.sheets['Рецепты'].range('B2:B1501').value:\n",
    "            sht.range(f'A{i}:Z{i}').color = (255, 0, 0)\n",
    "validate()"
   ]
  },
  {
   "cell_type": "markdown",
   "metadata": {},
   "source": [
    "9. В файле `recipes_model.csv` находится модель данных предметной области \"рецепты\". При помощи пакета `csv` считайте эти данные. При помощи пакета `xlwings` запишите данные на лист `Модель` книги `recipes_model.xlsx`, начиная с ячейки `A2`, не используя циклы. Сделайте скриншот текущего состояния листа и прикрепите в ячейку ноутбука. "
   ]
  },
  {
   "cell_type": "code",
   "execution_count": null,
   "metadata": {},
   "outputs": [],
   "source": [
    "import csv\n",
    "with open('recipes_model.csv','r') as f:\n",
    "    rec_mod = csv.reader(f, delimiter = '\\t')\n",
    "    rec_data = list(rec_mod)\n",
    "model = xw.Book()\n",
    "model_sheet = model.sheets.add('Модель')\n",
    "model_sheet.range('A2').value = rec_data\n",
    "model.save('recipes_model1.xlsx')\n",
    "model.close()"
   ]
  },
  {
   "cell_type": "markdown",
   "metadata": {},
   "source": [
    "10. При помощи пакета `xlwings` добавьте в столбец J формулу для описания столбца на языке SQL. Формула должна реализовывать следующую логику:\n",
    "\n",
    "    1\\. в начале строки идут значения из столбцов В и C (значение столбца С приведено к верхнему регистру), разделенные пробелом\n",
    "    \n",
    "    2\\. далее идут слова на основе столбца \"Ключ\"\n",
    "        2.1 если в столбце \"Ключ\" указано значение \"PK\", то дальше через пробел идет ключевое слово \"PRIMARY KEY\"\n",
    "        2.2 если в столбце \"Ключ\" указано значение \"FK\", то дальше через пробел идет ключевое слово \"REFERENCES\", затем значения столбцов H и I в формате \"название_таблицы(название_столбца)\"\n",
    "        \n",
    "    3\\. если в столбце \"Обязательно к заполнению\" указано значение \"Y\" и в столбце \"Ключ\" указано не \"PK\", то дальше через пробел идет ключевое слово \"NOT NULL\".\n",
    "\n",
    "Заполните этой формулой необходимое количество строк, используя \"протягивание\". Количество строк для протягивания определите на основе данных.\n",
    "\n",
    "Сделайте скриншот текущего состояния листа и прикрепите в ячейку ноутбука."
   ]
  },
  {
   "cell_type": "code",
   "execution_count": null,
   "metadata": {},
   "outputs": [],
   "source": [
    "w2=xw.Book('recipes_model.xlxs')\n",
    "sheet=w2.sheets['Модель']\n",
    "\n",
    "n_rows=sheet.range('A2').current_region.last_cell.row-1\n",
    "\n",
    "for x in range (2, n_rows+2):\n",
    "    b=sheet.range(f'B{x}').value\n",
    "    c=sheet.range(f'C{x}').value.upper()\n",
    "    h=sheet.range(f'H{x}').value\n",
    "    i=sheet.range(f'I{x}').value\n",
    "    \n",
    "    j=f'{b} {c}'\n",
    "    key=sheet.range(f'F{x}').value\n",
    "    if key=='PK':\n",
    "        j+=' PRIMARY KEY'\n",
    "    elif key=='FK':\n",
    "        j+=f' REFERENCES {h}({i})'\n",
    "        \n",
    "    req=sheet.range(f'D{x}').value\n",
    "    if req=='Y' and key!='PK':\n",
    "        j+=' NOT NULL'\n",
    "    \n",
    "    sheet.range(f'J{x}').value=j\n",
    "    \n",
    "w2.save('recipes_model.csv')\n",
    "w2.close()"
   ]
  },
  {
   "cell_type": "markdown",
   "metadata": {},
   "source": [
    "11. При помощи пакета `xlwings` измените стилизацию листа `Модель`.\n",
    "* для заголовков добавьте заливку цвета `00ccff`\n",
    "* примените автоподбор ширины столбца;\n",
    "* сделайте шрифт заголовков полужирным;\n",
    "* добавьте таблице автофильтр.\n",
    "\n",
    "Сделайте скриншот текущего состояния листа и прикрепите в ячейку ноутбука."
   ]
  },
  {
   "cell_type": "code",
   "execution_count": null,
   "metadata": {},
   "outputs": [],
   "source": [
    "w2=xw.Book('recipes_model.xlxs')\n",
    "sheet=w2.sheets['Модель']\n",
    "sheet.range('A2:J2').color='#00ccff'\n",
    "sheet.autofit('c')\n",
    "sheet.range('A2:J2').api.Font.Bold=True\n",
    "sheet.show_autofilter=True"
   ]
  },
  {
   "cell_type": "markdown",
   "metadata": {},
   "source": [
    "12. Посчитайте количество атрибутов для каждой из сущностей. Создайте лист `Статистика` и запишите в него результат группировки, начиная с ячейки \"А1\". Визуализируйте полученный результат при помощи столбчатой диаграммы. Сохраните полученную визуализацию на лист `Статистика`, начиная с ячейки \"E2\".  Сделайте скриншот листа `Статистика` и прикрепите в ячейку ноутбука.\n",
    "\n",
    "* Вы можете воспользоваться методами для визуализации, которые поставляются вместе с объектами `pandas` (см. https://pandas.pydata.org/docs/reference/api/pandas.DataFrame.plot) "
   ]
  },
  {
   "cell_type": "code",
   "execution_count": null,
   "metadata": {},
   "outputs": [],
   "source": [
    "st=w2.sheets['Статистика']\n",
    "model=sheet.range('A2:B18').value\n",
    "table=pd.DataFrame(model[1:], columns=['Сущность', 'Атрибут']).groupby('Сущность').count()\n",
    "st.range('A1').value=table\n",
    "d=table.plot.bar()"
   ]
  }
 ],
 "metadata": {
  "kernelspec": {
   "display_name": "Python 3 (ipykernel)",
   "language": "python",
   "name": "python3"
  },
  "language_info": {
   "codemirror_mode": {
    "name": "ipython",
    "version": 3
   },
   "file_extension": ".py",
   "mimetype": "text/x-python",
   "name": "python",
   "nbconvert_exporter": "python",
   "pygments_lexer": "ipython3",
   "version": "3.9.12"
  }
 },
 "nbformat": 4,
 "nbformat_minor": 4
}
